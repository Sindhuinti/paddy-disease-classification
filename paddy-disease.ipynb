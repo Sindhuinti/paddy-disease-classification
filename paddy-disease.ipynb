{
 "cells": [
  {
   "cell_type": "code",
   "execution_count": 1,
   "id": "5f63539e",
   "metadata": {
    "execution": {
     "iopub.execute_input": "2022-08-04T09:21:38.072470Z",
     "iopub.status.busy": "2022-08-04T09:21:38.071648Z",
     "iopub.status.idle": "2022-08-04T09:21:42.627751Z",
     "shell.execute_reply": "2022-08-04T09:21:42.626682Z"
    },
    "papermill": {
     "duration": 4.565926,
     "end_time": "2022-08-04T09:21:42.630272",
     "exception": false,
     "start_time": "2022-08-04T09:21:38.064346",
     "status": "completed"
    },
    "tags": []
   },
   "outputs": [],
   "source": [
    "import pandas as pd\n",
    "import numpy as np\n",
    "import tensorflow as tf\n",
    "from tensorflow import keras\n",
    "import warnings\n",
    "warnings.filterwarnings(action='ignore')\n"
   ]
  },
  {
   "cell_type": "code",
   "execution_count": 2,
   "id": "59bef46b",
   "metadata": {
    "execution": {
     "iopub.execute_input": "2022-08-04T09:21:42.641505Z",
     "iopub.status.busy": "2022-08-04T09:21:42.641000Z",
     "iopub.status.idle": "2022-08-04T09:21:42.670316Z",
     "shell.execute_reply": "2022-08-04T09:21:42.669429Z"
    },
    "papermill": {
     "duration": 0.03682,
     "end_time": "2022-08-04T09:21:42.672367",
     "exception": false,
     "start_time": "2022-08-04T09:21:42.635547",
     "status": "completed"
    },
    "tags": []
   },
   "outputs": [],
   "source": [
    "train_data = pd.read_csv('../input/paddy-disease-classification/train.csv')\n",
    "sub_data = pd.read_csv('../input/paddy-disease-classification/sample_submission.csv')"
   ]
  },
  {
   "cell_type": "code",
   "execution_count": 3,
   "id": "ed647da7",
   "metadata": {
    "execution": {
     "iopub.execute_input": "2022-08-04T09:21:42.682765Z",
     "iopub.status.busy": "2022-08-04T09:21:42.682052Z",
     "iopub.status.idle": "2022-08-04T09:21:42.699165Z",
     "shell.execute_reply": "2022-08-04T09:21:42.698268Z"
    },
    "papermill": {
     "duration": 0.024715,
     "end_time": "2022-08-04T09:21:42.701493",
     "exception": false,
     "start_time": "2022-08-04T09:21:42.676778",
     "status": "completed"
    },
    "tags": []
   },
   "outputs": [
    {
     "data": {
      "text/plain": [
       "ADT45             6992\n",
       "KarnatakaPonni     988\n",
       "Ponni              657\n",
       "AtchayaPonni       461\n",
       "Zonal              399\n",
       "AndraPonni         377\n",
       "Onthanel           351\n",
       "IR20               114\n",
       "RR                  36\n",
       "Surya               32\n",
       "Name: variety, dtype: int64"
      ]
     },
     "execution_count": 3,
     "metadata": {},
     "output_type": "execute_result"
    }
   ],
   "source": [
    "train_data['variety'].value_counts()"
   ]
  },
  {
   "cell_type": "code",
   "execution_count": 4,
   "id": "101fa6bb",
   "metadata": {
    "execution": {
     "iopub.execute_input": "2022-08-04T09:21:42.712361Z",
     "iopub.status.busy": "2022-08-04T09:21:42.711619Z",
     "iopub.status.idle": "2022-08-04T09:21:43.271171Z",
     "shell.execute_reply": "2022-08-04T09:21:43.270175Z"
    },
    "papermill": {
     "duration": 0.567246,
     "end_time": "2022-08-04T09:21:43.273578",
     "exception": false,
     "start_time": "2022-08-04T09:21:42.706332",
     "status": "completed"
    },
    "tags": []
   },
   "outputs": [],
   "source": [
    "from sklearn.preprocessing import LabelEncoder\n",
    "le = LabelEncoder()\n",
    "train_data['variety'] = le.fit_transform(train_data['variety'])"
   ]
  },
  {
   "cell_type": "code",
   "execution_count": 5,
   "id": "d8f57bbb",
   "metadata": {
    "execution": {
     "iopub.execute_input": "2022-08-04T09:21:43.285338Z",
     "iopub.status.busy": "2022-08-04T09:21:43.284666Z",
     "iopub.status.idle": "2022-08-04T09:21:43.293915Z",
     "shell.execute_reply": "2022-08-04T09:21:43.292952Z"
    },
    "papermill": {
     "duration": 0.017589,
     "end_time": "2022-08-04T09:21:43.295875",
     "exception": false,
     "start_time": "2022-08-04T09:21:43.278286",
     "status": "completed"
    },
    "tags": []
   },
   "outputs": [
    {
     "data": {
      "text/plain": [
       "image_id    0\n",
       "label       0\n",
       "variety     0\n",
       "age         0\n",
       "dtype: int64"
      ]
     },
     "execution_count": 5,
     "metadata": {},
     "output_type": "execute_result"
    }
   ],
   "source": [
    "train_data.isnull().sum()"
   ]
  },
  {
   "cell_type": "code",
   "execution_count": 6,
   "id": "4b11a59d",
   "metadata": {
    "execution": {
     "iopub.execute_input": "2022-08-04T09:21:43.307713Z",
     "iopub.status.busy": "2022-08-04T09:21:43.306266Z",
     "iopub.status.idle": "2022-08-04T09:21:43.321304Z",
     "shell.execute_reply": "2022-08-04T09:21:43.320301Z"
    },
    "papermill": {
     "duration": 0.023156,
     "end_time": "2022-08-04T09:21:43.323667",
     "exception": false,
     "start_time": "2022-08-04T09:21:43.300511",
     "status": "completed"
    },
    "tags": []
   },
   "outputs": [
    {
     "data": {
      "text/html": [
       "<div>\n",
       "<style scoped>\n",
       "    .dataframe tbody tr th:only-of-type {\n",
       "        vertical-align: middle;\n",
       "    }\n",
       "\n",
       "    .dataframe tbody tr th {\n",
       "        vertical-align: top;\n",
       "    }\n",
       "\n",
       "    .dataframe thead th {\n",
       "        text-align: right;\n",
       "    }\n",
       "</style>\n",
       "<table border=\"1\" class=\"dataframe\">\n",
       "  <thead>\n",
       "    <tr style=\"text-align: right;\">\n",
       "      <th></th>\n",
       "      <th>image_id</th>\n",
       "      <th>label</th>\n",
       "    </tr>\n",
       "  </thead>\n",
       "  <tbody>\n",
       "    <tr>\n",
       "      <th>0</th>\n",
       "      <td>200001.jpg</td>\n",
       "      <td>NaN</td>\n",
       "    </tr>\n",
       "    <tr>\n",
       "      <th>1</th>\n",
       "      <td>200002.jpg</td>\n",
       "      <td>NaN</td>\n",
       "    </tr>\n",
       "    <tr>\n",
       "      <th>2</th>\n",
       "      <td>200003.jpg</td>\n",
       "      <td>NaN</td>\n",
       "    </tr>\n",
       "    <tr>\n",
       "      <th>3</th>\n",
       "      <td>200004.jpg</td>\n",
       "      <td>NaN</td>\n",
       "    </tr>\n",
       "    <tr>\n",
       "      <th>4</th>\n",
       "      <td>200005.jpg</td>\n",
       "      <td>NaN</td>\n",
       "    </tr>\n",
       "    <tr>\n",
       "      <th>...</th>\n",
       "      <td>...</td>\n",
       "      <td>...</td>\n",
       "    </tr>\n",
       "    <tr>\n",
       "      <th>3464</th>\n",
       "      <td>203465.jpg</td>\n",
       "      <td>NaN</td>\n",
       "    </tr>\n",
       "    <tr>\n",
       "      <th>3465</th>\n",
       "      <td>203466.jpg</td>\n",
       "      <td>NaN</td>\n",
       "    </tr>\n",
       "    <tr>\n",
       "      <th>3466</th>\n",
       "      <td>203467.jpg</td>\n",
       "      <td>NaN</td>\n",
       "    </tr>\n",
       "    <tr>\n",
       "      <th>3467</th>\n",
       "      <td>203468.jpg</td>\n",
       "      <td>NaN</td>\n",
       "    </tr>\n",
       "    <tr>\n",
       "      <th>3468</th>\n",
       "      <td>203469.jpg</td>\n",
       "      <td>NaN</td>\n",
       "    </tr>\n",
       "  </tbody>\n",
       "</table>\n",
       "<p>3469 rows × 2 columns</p>\n",
       "</div>"
      ],
      "text/plain": [
       "        image_id  label\n",
       "0     200001.jpg    NaN\n",
       "1     200002.jpg    NaN\n",
       "2     200003.jpg    NaN\n",
       "3     200004.jpg    NaN\n",
       "4     200005.jpg    NaN\n",
       "...          ...    ...\n",
       "3464  203465.jpg    NaN\n",
       "3465  203466.jpg    NaN\n",
       "3466  203467.jpg    NaN\n",
       "3467  203468.jpg    NaN\n",
       "3468  203469.jpg    NaN\n",
       "\n",
       "[3469 rows x 2 columns]"
      ]
     },
     "execution_count": 6,
     "metadata": {},
     "output_type": "execute_result"
    }
   ],
   "source": [
    "sub_data"
   ]
  },
  {
   "cell_type": "code",
   "execution_count": 7,
   "id": "62cc87fd",
   "metadata": {
    "execution": {
     "iopub.execute_input": "2022-08-04T09:21:43.336575Z",
     "iopub.status.busy": "2022-08-04T09:21:43.335661Z",
     "iopub.status.idle": "2022-08-04T09:21:43.343842Z",
     "shell.execute_reply": "2022-08-04T09:21:43.342170Z"
    },
    "papermill": {
     "duration": 0.016918,
     "end_time": "2022-08-04T09:21:43.346258",
     "exception": false,
     "start_time": "2022-08-04T09:21:43.329340",
     "status": "completed"
    },
    "tags": []
   },
   "outputs": [
    {
     "name": "stdout",
     "output_type": "stream",
     "text": [
      "10\n",
      "['bacterial_leaf_blight', 'bacterial_leaf_streak', 'bacterial_panicle_blight', 'blast', 'brown_spot', 'dead_heart', 'downy_mildew', 'hispa', 'normal', 'tungro']\n"
     ]
    }
   ],
   "source": [
    "diseases_types=sorted(list(set(train_data['label'])))\n",
    "n_classes=len(diseases_types)\n",
    "print(n_classes)\n",
    "print(diseases_types)"
   ]
  },
  {
   "cell_type": "code",
   "execution_count": 8,
   "id": "06488e9d",
   "metadata": {
    "execution": {
     "iopub.execute_input": "2022-08-04T09:21:43.359117Z",
     "iopub.status.busy": "2022-08-04T09:21:43.358082Z",
     "iopub.status.idle": "2022-08-04T09:21:51.088399Z",
     "shell.execute_reply": "2022-08-04T09:21:51.086694Z"
    },
    "papermill": {
     "duration": 7.739941,
     "end_time": "2022-08-04T09:21:51.091787",
     "exception": false,
     "start_time": "2022-08-04T09:21:43.351846",
     "status": "completed"
    },
    "tags": []
   },
   "outputs": [
    {
     "name": "stdout",
     "output_type": "stream",
     "text": [
      "Found 10407 files belonging to 10 classes.\n",
      "Using 8326 files for training.\n"
     ]
    },
    {
     "name": "stderr",
     "output_type": "stream",
     "text": [
      "2022-08-04 09:21:47.114002: I tensorflow/stream_executor/cuda/cuda_gpu_executor.cc:937] successful NUMA node read from SysFS had negative value (-1), but there must be at least one NUMA node, so returning NUMA node zero\n",
      "2022-08-04 09:21:47.263231: I tensorflow/stream_executor/cuda/cuda_gpu_executor.cc:937] successful NUMA node read from SysFS had negative value (-1), but there must be at least one NUMA node, so returning NUMA node zero\n",
      "2022-08-04 09:21:47.264040: I tensorflow/stream_executor/cuda/cuda_gpu_executor.cc:937] successful NUMA node read from SysFS had negative value (-1), but there must be at least one NUMA node, so returning NUMA node zero\n",
      "2022-08-04 09:21:47.266597: I tensorflow/core/platform/cpu_feature_guard.cc:142] This TensorFlow binary is optimized with oneAPI Deep Neural Network Library (oneDNN) to use the following CPU instructions in performance-critical operations:  AVX2 AVX512F FMA\n",
      "To enable them in other operations, rebuild TensorFlow with the appropriate compiler flags.\n",
      "2022-08-04 09:21:47.266875: I tensorflow/stream_executor/cuda/cuda_gpu_executor.cc:937] successful NUMA node read from SysFS had negative value (-1), but there must be at least one NUMA node, so returning NUMA node zero\n",
      "2022-08-04 09:21:47.267607: I tensorflow/stream_executor/cuda/cuda_gpu_executor.cc:937] successful NUMA node read from SysFS had negative value (-1), but there must be at least one NUMA node, so returning NUMA node zero\n",
      "2022-08-04 09:21:47.268288: I tensorflow/stream_executor/cuda/cuda_gpu_executor.cc:937] successful NUMA node read from SysFS had negative value (-1), but there must be at least one NUMA node, so returning NUMA node zero\n",
      "2022-08-04 09:21:49.480426: I tensorflow/stream_executor/cuda/cuda_gpu_executor.cc:937] successful NUMA node read from SysFS had negative value (-1), but there must be at least one NUMA node, so returning NUMA node zero\n",
      "2022-08-04 09:21:49.481324: I tensorflow/stream_executor/cuda/cuda_gpu_executor.cc:937] successful NUMA node read from SysFS had negative value (-1), but there must be at least one NUMA node, so returning NUMA node zero\n",
      "2022-08-04 09:21:49.481998: I tensorflow/stream_executor/cuda/cuda_gpu_executor.cc:937] successful NUMA node read from SysFS had negative value (-1), but there must be at least one NUMA node, so returning NUMA node zero\n",
      "2022-08-04 09:21:49.482587: I tensorflow/core/common_runtime/gpu/gpu_device.cc:1510] Created device /job:localhost/replica:0/task:0/device:GPU:0 with 15403 MB memory:  -> device: 0, name: Tesla P100-PCIE-16GB, pci bus id: 0000:00:04.0, compute capability: 6.0\n"
     ]
    },
    {
     "name": "stdout",
     "output_type": "stream",
     "text": [
      "Found 10407 files belonging to 10 classes.\n",
      "Using 2081 files for validation.\n"
     ]
    }
   ],
   "source": [
    "train= tf.keras.utils.image_dataset_from_directory(\"/kaggle/input/paddy-disease-classification/train_images/\",\n",
    "                                                        labels='inferred',\n",
    "                                                        label_mode='categorical',\n",
    "                                                        class_names=diseases_types,\n",
    "                                                        color_mode='rgb',\n",
    "                                                        image_size=(680,480),\n",
    "                                                        shuffle=True,\n",
    "                                                        validation_split=0.2,\n",
    "                                                        subset='training',\n",
    "                                                        seed=42)\n",
    "\n",
    "val= tf.keras.utils.image_dataset_from_directory(\"/kaggle/input/paddy-disease-classification/train_images/\",\n",
    "                                                        labels='inferred',\n",
    "                                                        label_mode='categorical',\n",
    "                                                        class_names=diseases_types,   \n",
    "                                                        color_mode='rgb',\n",
    "                                                        image_size=(680,480),\n",
    "                                                        shuffle=True,\n",
    "                                                        validation_split=0.2,\n",
    "                                                        subset='validation',\n",
    "                                                        seed=42)"
   ]
  },
  {
   "cell_type": "code",
   "execution_count": 9,
   "id": "81c23b61",
   "metadata": {
    "execution": {
     "iopub.execute_input": "2022-08-04T09:21:51.110154Z",
     "iopub.status.busy": "2022-08-04T09:21:51.109802Z",
     "iopub.status.idle": "2022-08-04T09:21:51.119782Z",
     "shell.execute_reply": "2022-08-04T09:21:51.118770Z"
    },
    "papermill": {
     "duration": 0.02158,
     "end_time": "2022-08-04T09:21:51.122504",
     "exception": false,
     "start_time": "2022-08-04T09:21:51.100924",
     "status": "completed"
    },
    "tags": []
   },
   "outputs": [
    {
     "data": {
      "text/plain": [
       "<BatchDataset shapes: ((None, 680, 480, 3), (None, 10)), types: (tf.float32, tf.float32)>"
      ]
     },
     "execution_count": 9,
     "metadata": {},
     "output_type": "execute_result"
    }
   ],
   "source": [
    "train"
   ]
  },
  {
   "cell_type": "code",
   "execution_count": 10,
   "id": "4101e42f",
   "metadata": {
    "execution": {
     "iopub.execute_input": "2022-08-04T09:21:51.139451Z",
     "iopub.status.busy": "2022-08-04T09:21:51.139133Z",
     "iopub.status.idle": "2022-08-04T09:21:51.145016Z",
     "shell.execute_reply": "2022-08-04T09:21:51.144179Z"
    },
    "papermill": {
     "duration": 0.019702,
     "end_time": "2022-08-04T09:21:51.150104",
     "exception": false,
     "start_time": "2022-08-04T09:21:51.130402",
     "status": "completed"
    },
    "tags": []
   },
   "outputs": [
    {
     "data": {
      "text/plain": [
       "<BatchDataset shapes: ((None, 680, 480, 3), (None, 10)), types: (tf.float32, tf.float32)>"
      ]
     },
     "execution_count": 10,
     "metadata": {},
     "output_type": "execute_result"
    }
   ],
   "source": [
    "val"
   ]
  },
  {
   "cell_type": "code",
   "execution_count": 11,
   "id": "0d3deeca",
   "metadata": {
    "execution": {
     "iopub.execute_input": "2022-08-04T09:21:51.168311Z",
     "iopub.status.busy": "2022-08-04T09:21:51.167981Z",
     "iopub.status.idle": "2022-08-04T09:21:51.172600Z",
     "shell.execute_reply": "2022-08-04T09:21:51.171797Z"
    },
    "papermill": {
     "duration": 0.018141,
     "end_time": "2022-08-04T09:21:51.176326",
     "exception": false,
     "start_time": "2022-08-04T09:21:51.158185",
     "status": "completed"
    },
    "tags": []
   },
   "outputs": [],
   "source": [
    "from tensorflow.keras import models,layers"
   ]
  },
  {
   "cell_type": "code",
   "execution_count": 12,
   "id": "76483e65",
   "metadata": {
    "execution": {
     "iopub.execute_input": "2022-08-04T09:21:51.200101Z",
     "iopub.status.busy": "2022-08-04T09:21:51.199293Z",
     "iopub.status.idle": "2022-08-04T09:21:53.341777Z",
     "shell.execute_reply": "2022-08-04T09:21:53.340683Z"
    },
    "papermill": {
     "duration": 2.158958,
     "end_time": "2022-08-04T09:21:53.344196",
     "exception": false,
     "start_time": "2022-08-04T09:21:51.185238",
     "status": "completed"
    },
    "tags": []
   },
   "outputs": [
    {
     "name": "stdout",
     "output_type": "stream",
     "text": [
      "Downloading data from https://storage.googleapis.com/tensorflow/keras-applications/resnet/resnet50_weights_tf_dim_ordering_tf_kernels_notop.h5\n",
      "94773248/94765736 [==============================] - 0s 0us/step\n",
      "94781440/94765736 [==============================] - 0s 0us/step\n"
     ]
    }
   ],
   "source": [
    "model = models.Sequential()\n",
    "pretrained_model=tf.keras.applications.ResNet50(include_top=False,input_shape=(680,480,3),pooling='avg',classes=10,weights='imagenet')\n",
    "    \n",
    "for layer in pretrained_model.layers:\n",
    "    layer.trainable=False\n",
    "    \n",
    "    \n",
    "model.add(pretrained_model)\n",
    "model.add(layers.Flatten())\n",
    "model.add(layers.Dense(512,activation='relu'))\n",
    "model.add(layers.Dense(99,activation='relu'))\n",
    "model.add(layers.Dense(10,activation='softmax'))"
   ]
  },
  {
   "cell_type": "code",
   "execution_count": 13,
   "id": "9123aa97",
   "metadata": {
    "execution": {
     "iopub.execute_input": "2022-08-04T09:21:53.358480Z",
     "iopub.status.busy": "2022-08-04T09:21:53.358193Z",
     "iopub.status.idle": "2022-08-04T09:21:53.373817Z",
     "shell.execute_reply": "2022-08-04T09:21:53.372754Z"
    },
    "papermill": {
     "duration": 0.025434,
     "end_time": "2022-08-04T09:21:53.376352",
     "exception": false,
     "start_time": "2022-08-04T09:21:53.350918",
     "status": "completed"
    },
    "tags": []
   },
   "outputs": [
    {
     "name": "stdout",
     "output_type": "stream",
     "text": [
      "Model: \"sequential\"\n",
      "_________________________________________________________________\n",
      "Layer (type)                 Output Shape              Param #   \n",
      "=================================================================\n",
      "resnet50 (Functional)        (None, 2048)              23587712  \n",
      "_________________________________________________________________\n",
      "flatten (Flatten)            (None, 2048)              0         \n",
      "_________________________________________________________________\n",
      "dense (Dense)                (None, 512)               1049088   \n",
      "_________________________________________________________________\n",
      "dense_1 (Dense)              (None, 99)                50787     \n",
      "_________________________________________________________________\n",
      "dense_2 (Dense)              (None, 10)                1000      \n",
      "=================================================================\n",
      "Total params: 24,688,587\n",
      "Trainable params: 1,100,875\n",
      "Non-trainable params: 23,587,712\n",
      "_________________________________________________________________\n"
     ]
    }
   ],
   "source": [
    "model.summary()"
   ]
  },
  {
   "cell_type": "code",
   "execution_count": 14,
   "id": "d9bca5bc",
   "metadata": {
    "execution": {
     "iopub.execute_input": "2022-08-04T09:21:53.389900Z",
     "iopub.status.busy": "2022-08-04T09:21:53.389637Z",
     "iopub.status.idle": "2022-08-04T09:21:54.313980Z",
     "shell.execute_reply": "2022-08-04T09:21:54.312826Z"
    },
    "papermill": {
     "duration": 0.933488,
     "end_time": "2022-08-04T09:21:54.316161",
     "exception": false,
     "start_time": "2022-08-04T09:21:53.382673",
     "status": "completed"
    },
    "tags": []
   },
   "outputs": [
    {
     "data": {
      "image/png": "[encoded data removed]",
      "text/plain": [
       "<IPython.core.display.Image object>"
      ]
     },
     "execution_count": 14,
     "metadata": {},
     "output_type": "execute_result"
    }
   ],
   "source": [
    "tf.keras.utils.plot_model(model)"
   ]
  },
  {
   "cell_type": "code",
   "execution_count": 15,
   "id": "cb16e24e",
   "metadata": {
    "execution": {
     "iopub.execute_input": "2022-08-04T09:21:54.331733Z",
     "iopub.status.busy": "2022-08-04T09:21:54.330913Z",
     "iopub.status.idle": "2022-08-04T10:06:38.130960Z",
     "shell.execute_reply": "2022-08-04T10:06:38.129987Z"
    },
    "papermill": {
     "duration": 2684.085582,
     "end_time": "2022-08-04T10:06:38.408634",
     "exception": false,
     "start_time": "2022-08-04T09:21:54.323052",
     "status": "completed"
    },
    "tags": []
   },
   "outputs": [
    {
     "name": "stdout",
     "output_type": "stream",
     "text": [
      "Epoch 1/15\n"
     ]
    },
    {
     "name": "stderr",
     "output_type": "stream",
     "text": [
      "2022-08-04 09:21:56.845352: I tensorflow/compiler/mlir/mlir_graph_optimization_pass.cc:185] None of the MLIR Optimization Passes are enabled (registered 2)\n",
      "2022-08-04 09:22:00.309120: I tensorflow/stream_executor/cuda/cuda_dnn.cc:369] Loaded cuDNN version 8005\n"
     ]
    },
    {
     "name": "stdout",
     "output_type": "stream",
     "text": [
      "261/261 [==============================] - 154s 545ms/step - loss: 1.5419 - accuracy: 0.4859 - val_loss: 1.1840 - val_accuracy: 0.6170\n",
      "Epoch 2/15\n",
      "261/261 [==============================] - 144s 548ms/step - loss: 1.0531 - accuracy: 0.6573 - val_loss: 0.9719 - val_accuracy: 0.6848\n",
      "Epoch 3/15\n",
      "261/261 [==============================] - 144s 548ms/step - loss: 0.7757 - accuracy: 0.7531 - val_loss: 0.8719 - val_accuracy: 0.7160\n",
      "Epoch 4/15\n",
      "261/261 [==============================] - 143s 545ms/step - loss: 0.6212 - accuracy: 0.7988 - val_loss: 0.6286 - val_accuracy: 0.7929\n",
      "Epoch 5/15\n",
      "261/261 [==============================] - 144s 548ms/step - loss: 0.5052 - accuracy: 0.8337 - val_loss: 0.5225 - val_accuracy: 0.8309\n",
      "Epoch 6/15\n",
      "261/261 [==============================] - 144s 547ms/step - loss: 0.4192 - accuracy: 0.8644 - val_loss: 0.4559 - val_accuracy: 0.8530\n",
      "Epoch 7/15\n",
      "261/261 [==============================] - 144s 546ms/step - loss: 0.3357 - accuracy: 0.8875 - val_loss: 0.5046 - val_accuracy: 0.8270\n",
      "Epoch 8/15\n",
      "261/261 [==============================] - 144s 549ms/step - loss: 0.3150 - accuracy: 0.8983 - val_loss: 0.5251 - val_accuracy: 0.8323\n",
      "Epoch 9/15\n",
      "261/261 [==============================] - 144s 547ms/step - loss: 0.2654 - accuracy: 0.9134 - val_loss: 0.3886 - val_accuracy: 0.8712\n",
      "Epoch 10/15\n",
      "261/261 [==============================] - 144s 546ms/step - loss: 0.2066 - accuracy: 0.9330 - val_loss: 0.5214 - val_accuracy: 0.8390\n",
      "Epoch 11/15\n",
      "261/261 [==============================] - 143s 545ms/step - loss: 0.1962 - accuracy: 0.9339 - val_loss: 0.4124 - val_accuracy: 0.8645\n",
      "Epoch 12/15\n",
      "261/261 [==============================] - 144s 546ms/step - loss: 0.1706 - accuracy: 0.9455 - val_loss: 0.3211 - val_accuracy: 0.8962\n",
      "Epoch 13/15\n",
      "261/261 [==============================] - 144s 548ms/step - loss: 0.1387 - accuracy: 0.9553 - val_loss: 0.3145 - val_accuracy: 0.8996\n",
      "Epoch 14/15\n",
      "261/261 [==============================] - 144s 545ms/step - loss: 0.1426 - accuracy: 0.9540 - val_loss: 0.3925 - val_accuracy: 0.8842\n",
      "Epoch 15/15\n",
      "261/261 [==============================] - 145s 548ms/step - loss: 0.1316 - accuracy: 0.9558 - val_loss: 0.5534 - val_accuracy: 0.8400\n"
     ]
    },
    {
     "data": {
      "text/plain": [
       "<keras.callbacks.History at 0x7fd0cb55ff10>"
      ]
     },
     "execution_count": 15,
     "metadata": {},
     "output_type": "execute_result"
    }
   ],
   "source": [
    "model.compile(optimizer='adam',loss='categorical_crossentropy',metrics=['accuracy'])\n",
    "model.fit(train,validation_data=val,epochs=15)"
   ]
  },
  {
   "cell_type": "code",
   "execution_count": 16,
   "id": "a9d0b6e8",
   "metadata": {
    "execution": {
     "iopub.execute_input": "2022-08-04T10:06:39.064236Z",
     "iopub.status.busy": "2022-08-04T10:06:39.059800Z",
     "iopub.status.idle": "2022-08-04T10:06:41.844729Z",
     "shell.execute_reply": "2022-08-04T10:06:41.843255Z"
    },
    "papermill": {
     "duration": 3.110696,
     "end_time": "2022-08-04T10:06:41.847673",
     "exception": false,
     "start_time": "2022-08-04T10:06:38.736977",
     "status": "completed"
    },
    "tags": []
   },
   "outputs": [
    {
     "name": "stdout",
     "output_type": "stream",
     "text": [
      "Found 3469 files belonging to 1 classes.\n"
     ]
    }
   ],
   "source": [
    "test_data=tf.keras.utils.image_dataset_from_directory(\"/kaggle/input/paddy-disease-classification/test_images/\",\n",
    "                                                        labels=None,\n",
    "                                                        label_mode=None,\n",
    "                                                        color_mode='rgb',\n",
    "                                                        image_size=(680,480),\n",
    "                                                        shuffle=False)"
   ]
  },
  {
   "cell_type": "code",
   "execution_count": 17,
   "id": "4a3ee50c",
   "metadata": {
    "execution": {
     "iopub.execute_input": "2022-08-04T10:06:42.310594Z",
     "iopub.status.busy": "2022-08-04T10:06:42.309858Z",
     "iopub.status.idle": "2022-08-04T10:07:17.635910Z",
     "shell.execute_reply": "2022-08-04T10:07:17.634960Z"
    },
    "papermill": {
     "duration": 35.805515,
     "end_time": "2022-08-04T10:07:17.860309",
     "exception": false,
     "start_time": "2022-08-04T10:06:42.054794",
     "status": "completed"
    },
    "tags": []
   },
   "outputs": [
    {
     "data": {
      "text/plain": [
       "<tf.Tensor: shape=(3469,), dtype=int64, numpy=array([7, 8, 7, ..., 8, 1, 5])>"
      ]
     },
     "execution_count": 17,
     "metadata": {},
     "output_type": "execute_result"
    }
   ],
   "source": [
    "predict=tf.argmax(model.predict(test_data),axis=-1)\n",
    "predict"
   ]
  },
  {
   "cell_type": "code",
   "execution_count": 18,
   "id": "da1c4cad",
   "metadata": {
    "execution": {
     "iopub.execute_input": "2022-08-04T10:07:18.288064Z",
     "iopub.status.busy": "2022-08-04T10:07:18.287674Z",
     "iopub.status.idle": "2022-08-04T10:07:19.586462Z",
     "shell.execute_reply": "2022-08-04T10:07:19.585512Z"
    },
    "papermill": {
     "duration": 1.508959,
     "end_time": "2022-08-04T10:07:19.589139",
     "exception": false,
     "start_time": "2022-08-04T10:07:18.080180",
     "status": "completed"
    },
    "tags": []
   },
   "outputs": [],
   "source": [
    "predictions=[]\n",
    "for i in predict:\n",
    "    predictions.append(diseases_types[i])"
   ]
  },
  {
   "cell_type": "code",
   "execution_count": 19,
   "id": "634ee6be",
   "metadata": {
    "execution": {
     "iopub.execute_input": "2022-08-04T10:07:20.006289Z",
     "iopub.status.busy": "2022-08-04T10:07:20.004359Z",
     "iopub.status.idle": "2022-08-04T10:07:20.020846Z",
     "shell.execute_reply": "2022-08-04T10:07:20.019924Z"
    },
    "papermill": {
     "duration": 0.22599,
     "end_time": "2022-08-04T10:07:20.022800",
     "exception": false,
     "start_time": "2022-08-04T10:07:19.796810",
     "status": "completed"
    },
    "tags": []
   },
   "outputs": [
    {
     "data": {
      "text/html": [
       "<div>\n",
       "<style scoped>\n",
       "    .dataframe tbody tr th:only-of-type {\n",
       "        vertical-align: middle;\n",
       "    }\n",
       "\n",
       "    .dataframe tbody tr th {\n",
       "        vertical-align: top;\n",
       "    }\n",
       "\n",
       "    .dataframe thead th {\n",
       "        text-align: right;\n",
       "    }\n",
       "</style>\n",
       "<table border=\"1\" class=\"dataframe\">\n",
       "  <thead>\n",
       "    <tr style=\"text-align: right;\">\n",
       "      <th></th>\n",
       "      <th>image_id</th>\n",
       "    </tr>\n",
       "  </thead>\n",
       "  <tbody>\n",
       "    <tr>\n",
       "      <th>0</th>\n",
       "      <td>200001.jpg</td>\n",
       "    </tr>\n",
       "    <tr>\n",
       "      <th>1</th>\n",
       "      <td>200002.jpg</td>\n",
       "    </tr>\n",
       "    <tr>\n",
       "      <th>2</th>\n",
       "      <td>200003.jpg</td>\n",
       "    </tr>\n",
       "    <tr>\n",
       "      <th>3</th>\n",
       "      <td>200004.jpg</td>\n",
       "    </tr>\n",
       "    <tr>\n",
       "      <th>4</th>\n",
       "      <td>200005.jpg</td>\n",
       "    </tr>\n",
       "    <tr>\n",
       "      <th>...</th>\n",
       "      <td>...</td>\n",
       "    </tr>\n",
       "    <tr>\n",
       "      <th>3464</th>\n",
       "      <td>203465.jpg</td>\n",
       "    </tr>\n",
       "    <tr>\n",
       "      <th>3465</th>\n",
       "      <td>203466.jpg</td>\n",
       "    </tr>\n",
       "    <tr>\n",
       "      <th>3466</th>\n",
       "      <td>203467.jpg</td>\n",
       "    </tr>\n",
       "    <tr>\n",
       "      <th>3467</th>\n",
       "      <td>203468.jpg</td>\n",
       "    </tr>\n",
       "    <tr>\n",
       "      <th>3468</th>\n",
       "      <td>203469.jpg</td>\n",
       "    </tr>\n",
       "  </tbody>\n",
       "</table>\n",
       "<p>3469 rows × 1 columns</p>\n",
       "</div>"
      ],
      "text/plain": [
       "        image_id\n",
       "0     200001.jpg\n",
       "1     200002.jpg\n",
       "2     200003.jpg\n",
       "3     200004.jpg\n",
       "4     200005.jpg\n",
       "...          ...\n",
       "3464  203465.jpg\n",
       "3465  203466.jpg\n",
       "3466  203467.jpg\n",
       "3467  203468.jpg\n",
       "3468  203469.jpg\n",
       "\n",
       "[3469 rows x 1 columns]"
      ]
     },
     "execution_count": 19,
     "metadata": {},
     "output_type": "execute_result"
    }
   ],
   "source": [
    "sub_data=sub_data.drop(columns='label',axis=1)\n",
    "sub_data"
   ]
  },
  {
   "cell_type": "code",
   "execution_count": 20,
   "id": "e32de86b",
   "metadata": {
    "execution": {
     "iopub.execute_input": "2022-08-04T10:07:20.433288Z",
     "iopub.status.busy": "2022-08-04T10:07:20.432888Z",
     "iopub.status.idle": "2022-08-04T10:07:20.446499Z",
     "shell.execute_reply": "2022-08-04T10:07:20.445627Z"
    },
    "papermill": {
     "duration": 0.221242,
     "end_time": "2022-08-04T10:07:20.448466",
     "exception": false,
     "start_time": "2022-08-04T10:07:20.227224",
     "status": "completed"
    },
    "tags": []
   },
   "outputs": [
    {
     "data": {
      "text/html": [
       "<div>\n",
       "<style scoped>\n",
       "    .dataframe tbody tr th:only-of-type {\n",
       "        vertical-align: middle;\n",
       "    }\n",
       "\n",
       "    .dataframe tbody tr th {\n",
       "        vertical-align: top;\n",
       "    }\n",
       "\n",
       "    .dataframe thead th {\n",
       "        text-align: right;\n",
       "    }\n",
       "</style>\n",
       "<table border=\"1\" class=\"dataframe\">\n",
       "  <thead>\n",
       "    <tr style=\"text-align: right;\">\n",
       "      <th></th>\n",
       "      <th>image_id</th>\n",
       "      <th>label</th>\n",
       "    </tr>\n",
       "  </thead>\n",
       "  <tbody>\n",
       "    <tr>\n",
       "      <th>0</th>\n",
       "      <td>200001.jpg</td>\n",
       "      <td>hispa</td>\n",
       "    </tr>\n",
       "    <tr>\n",
       "      <th>1</th>\n",
       "      <td>200002.jpg</td>\n",
       "      <td>normal</td>\n",
       "    </tr>\n",
       "    <tr>\n",
       "      <th>2</th>\n",
       "      <td>200003.jpg</td>\n",
       "      <td>hispa</td>\n",
       "    </tr>\n",
       "    <tr>\n",
       "      <th>3</th>\n",
       "      <td>200004.jpg</td>\n",
       "      <td>blast</td>\n",
       "    </tr>\n",
       "    <tr>\n",
       "      <th>4</th>\n",
       "      <td>200005.jpg</td>\n",
       "      <td>blast</td>\n",
       "    </tr>\n",
       "    <tr>\n",
       "      <th>...</th>\n",
       "      <td>...</td>\n",
       "      <td>...</td>\n",
       "    </tr>\n",
       "    <tr>\n",
       "      <th>3464</th>\n",
       "      <td>203465.jpg</td>\n",
       "      <td>dead_heart</td>\n",
       "    </tr>\n",
       "    <tr>\n",
       "      <th>3465</th>\n",
       "      <td>203466.jpg</td>\n",
       "      <td>hispa</td>\n",
       "    </tr>\n",
       "    <tr>\n",
       "      <th>3466</th>\n",
       "      <td>203467.jpg</td>\n",
       "      <td>normal</td>\n",
       "    </tr>\n",
       "    <tr>\n",
       "      <th>3467</th>\n",
       "      <td>203468.jpg</td>\n",
       "      <td>bacterial_leaf_streak</td>\n",
       "    </tr>\n",
       "    <tr>\n",
       "      <th>3468</th>\n",
       "      <td>203469.jpg</td>\n",
       "      <td>dead_heart</td>\n",
       "    </tr>\n",
       "  </tbody>\n",
       "</table>\n",
       "<p>3469 rows × 2 columns</p>\n",
       "</div>"
      ],
      "text/plain": [
       "        image_id                  label\n",
       "0     200001.jpg                  hispa\n",
       "1     200002.jpg                 normal\n",
       "2     200003.jpg                  hispa\n",
       "3     200004.jpg                  blast\n",
       "4     200005.jpg                  blast\n",
       "...          ...                    ...\n",
       "3464  203465.jpg             dead_heart\n",
       "3465  203466.jpg                  hispa\n",
       "3466  203467.jpg                 normal\n",
       "3467  203468.jpg  bacterial_leaf_streak\n",
       "3468  203469.jpg             dead_heart\n",
       "\n",
       "[3469 rows x 2 columns]"
      ]
     },
     "execution_count": 20,
     "metadata": {},
     "output_type": "execute_result"
    }
   ],
   "source": [
    "submission=pd.DataFrame({'image_id':sub_data['image_id'],'label':predictions})\n",
    "submission"
   ]
  },
  {
   "cell_type": "code",
   "execution_count": 21,
   "id": "9b8aa1bb",
   "metadata": {
    "execution": {
     "iopub.execute_input": "2022-08-04T10:07:20.907982Z",
     "iopub.status.busy": "2022-08-04T10:07:20.907587Z",
     "iopub.status.idle": "2022-08-04T10:07:20.919128Z",
     "shell.execute_reply": "2022-08-04T10:07:20.918261Z"
    },
    "papermill": {
     "duration": 0.267446,
     "end_time": "2022-08-04T10:07:20.921116",
     "exception": false,
     "start_time": "2022-08-04T10:07:20.653670",
     "status": "completed"
    },
    "tags": []
   },
   "outputs": [],
   "source": [
    "submission.to_csv('paddy.csv',index=None)"
   ]
  },
  {
   "cell_type": "code",
   "execution_count": null,
   "id": "9e14a87a",
   "metadata": {
    "papermill": {
     "duration": 0.22713,
     "end_time": "2022-08-04T10:07:32.334671",
     "exception": false,
     "start_time": "2022-08-04T10:07:32.107541",
     "status": "completed"
    },
    "tags": []
   },
   "outputs": [],
   "source": []
  }
 ],
 "metadata": {
  "kernelspec": {
   "display_name": "Python 3",
   "language": "python",
   "name": "python3"
  },
  "language_info": {
   "codemirror_mode": {
    "name": "ipython",
    "version": 3
   },
   "file_extension": ".py",
   "mimetype": "text/x-python",
   "name": "python",
   "nbconvert_exporter": "python",
   "pygments_lexer": "ipython3",
   "version": "3.7.12"
  },
  "papermill": {
   "default_parameters": {},
   "duration": 2765.867669,
   "end_time": "2022-08-04T10:07:36.109129",
   "environment_variables": {},
   "exception": null,
   "input_path": "__notebook__.ipynb",
   "output_path": "__notebook__.ipynb",
   "parameters": {},
   "start_time": "2022-08-04T09:21:30.241460",
   "version": "2.3.4"
  }
 },
 "nbformat": 4,
 "nbformat_minor": 5
}
